{
 "cells": [
  {
   "cell_type": "code",
   "execution_count": 6,
   "metadata": {},
   "outputs": [],
   "source": [
    "from einsteinpy.symbolic.predefined import Schwarzschild\n",
    "from einsteinpy.symbolic import RiemannCurvatureTensor, RicciTensor, RicciScalar, ChristoffelSymbols\n",
    "from einsteinpy.symbolic.metric import MetricTensor\n",
    "import sympy as sp\n",
    "from sympy import diff, Function, tensorproduct, tensorcontraction, symbols, Eq, dsolve\n",
    "import numpy as np"
   ]
  },
  {
   "cell_type": "code",
   "execution_count": 7,
   "metadata": {},
   "outputs": [],
   "source": [
    "# Define the metric symbols and metric tensor\n",
    "#A constant k\n",
    "k = symbols('k')\n",
    "#Functions for the tranformation\n",
    "A, B = symbols('A B', cls=Function)\n",
    "#variables\n",
    "t, x, y, z = symbols('t x y z', real=True)\n",
    "metric_symbols = t, x, y, z\n",
    "L = sp.sqrt(t**2+x**2+y**2+z**2)\n",
    "\n",
    "metric = sp.Array([\n",
    "    [1 - B(L), 0, 0, 0],\n",
    "    [0, -1, 0, 0],\n",
    "    [0, 0, -1, 0],\n",
    "    [0, 0, 0, -1]\n",
    "])"
   ]
  },
  {
   "cell_type": "code",
   "execution_count": 8,
   "metadata": {},
   "outputs": [
    {
     "data": {
      "text/latex": [
       "$\\displaystyle \\left[\\begin{matrix}1 - B{\\left(x \\right)} & 0 & 0 & 0\\\\0 & -1 & 0 & 0\\\\0 & 0 & -1 & 0\\\\0 & 0 & 0 & -1\\end{matrix}\\right]$"
      ],
      "text/plain": [
       "[[1 - B(x), 0, 0, 0], [0, -1, 0, 0], [0, 0, -1, 0], [0, 0, 0, -1]]"
      ]
     },
     "execution_count": 8,
     "metadata": {},
     "output_type": "execute_result"
    }
   ],
   "source": [
    "#generate metric tensor for einsteinpy\n",
    "metric_tensor = MetricTensor(arr=metric, syms=metric_symbols, config='ll')\n",
    "metric_tensor.tensor()"
   ]
  },
  {
   "cell_type": "code",
   "execution_count": 9,
   "metadata": {},
   "outputs": [
    {
     "data": {
      "text/latex": [
       "$\\displaystyle \\left[\\begin{matrix}\\left[\\begin{matrix}0 & \\frac{\\frac{d}{d x} B{\\left(x \\right)}}{2 \\left(B{\\left(x \\right)} - 1\\right)} & 0 & 0\\\\\\frac{\\frac{d}{d x} B{\\left(x \\right)}}{2 \\left(B{\\left(x \\right)} - 1\\right)} & 0 & 0 & 0\\\\0 & 0 & 0 & 0\\\\0 & 0 & 0 & 0\\end{matrix}\\right] & \\left[\\begin{matrix}- \\frac{\\frac{d}{d x} B{\\left(x \\right)}}{2} & 0 & 0 & 0\\\\0 & 0 & 0 & 0\\\\0 & 0 & 0 & 0\\\\0 & 0 & 0 & 0\\end{matrix}\\right] & \\left[\\begin{matrix}0 & 0 & 0 & 0\\\\0 & 0 & 0 & 0\\\\0 & 0 & 0 & 0\\\\0 & 0 & 0 & 0\\end{matrix}\\right] & \\left[\\begin{matrix}0 & 0 & 0 & 0\\\\0 & 0 & 0 & 0\\\\0 & 0 & 0 & 0\\\\0 & 0 & 0 & 0\\end{matrix}\\right]\\end{matrix}\\right]$"
      ],
      "text/plain": [
       "[[[0, Derivative(B(x), x)/(2*(B(x) - 1)), 0, 0], [Derivative(B(x), x)/(2*(B(x) - 1)), 0, 0, 0], [0, 0, 0, 0], [0, 0, 0, 0]], [[-Derivative(B(x), x)/2, 0, 0, 0], [0, 0, 0, 0], [0, 0, 0, 0], [0, 0, 0, 0]], [[0, 0, 0, 0], [0, 0, 0, 0], [0, 0, 0, 0], [0, 0, 0, 0]], [[0, 0, 0, 0], [0, 0, 0, 0], [0, 0, 0, 0], [0, 0, 0, 0]]]"
      ]
     },
     "execution_count": 9,
     "metadata": {},
     "output_type": "execute_result"
    }
   ],
   "source": [
    "#calculate christoffel symbols\n",
    "ch = ChristoffelSymbols.from_metric(metric_tensor)\n",
    "sp.simplify(ch.tensor())"
   ]
  },
  {
   "cell_type": "code",
   "execution_count": 10,
   "metadata": {},
   "outputs": [
    {
     "data": {
      "text/latex": [
       "$\\displaystyle \\left[\\begin{matrix}\\left[\\begin{matrix}0 & 0 & 0 & 0\\\\0 & 0 & 0 & 0\\\\0 & 0 & 0 & 0\\\\0 & 0 & 0 & 0\\end{matrix}\\right] & \\left[\\begin{matrix}0 & \\frac{- 2 \\left(B{\\left(x \\right)} - 1\\right) \\frac{d^{2}}{d x^{2}} B{\\left(x \\right)} + \\left(\\frac{d}{d x} B{\\left(x \\right)}\\right)^{2}}{4 \\left(B{\\left(x \\right)} - 1\\right)^{2}} & 0 & 0\\\\\\frac{\\left(1 - B{\\left(x \\right)}\\right) \\left(\\frac{d}{d x} B{\\left(x \\right)}\\right)^{2} + 2 \\left(B{\\left(x \\right)} - 1\\right)^{2} \\frac{d^{2}}{d x^{2}} B{\\left(x \\right)}}{4 \\left(B{\\left(x \\right)} - 1\\right)^{3}} & 0 & 0 & 0\\\\0 & 0 & 0 & 0\\\\0 & 0 & 0 & 0\\end{matrix}\\right] & \\left[\\begin{matrix}0 & 0 & 0 & 0\\\\0 & 0 & 0 & 0\\\\0 & 0 & 0 & 0\\\\0 & 0 & 0 & 0\\end{matrix}\\right] & \\left[\\begin{matrix}0 & 0 & 0 & 0\\\\0 & 0 & 0 & 0\\\\0 & 0 & 0 & 0\\\\0 & 0 & 0 & 0\\end{matrix}\\right]\\\\\\left[\\begin{matrix}0 & \\frac{2 \\left(B{\\left(x \\right)} - 1\\right) \\frac{d^{2}}{d x^{2}} B{\\left(x \\right)} - \\left(\\frac{d}{d x} B{\\left(x \\right)}\\right)^{2}}{4 \\left(B{\\left(x \\right)} - 1\\right)} & 0 & 0\\\\\\frac{- 2 \\left(B{\\left(x \\right)} - 1\\right) \\frac{d^{2}}{d x^{2}} B{\\left(x \\right)} + \\left(\\frac{d}{d x} B{\\left(x \\right)}\\right)^{2}}{4 \\left(B{\\left(x \\right)} - 1\\right)} & 0 & 0 & 0\\\\0 & 0 & 0 & 0\\\\0 & 0 & 0 & 0\\end{matrix}\\right] & \\left[\\begin{matrix}0 & 0 & 0 & 0\\\\0 & 0 & 0 & 0\\\\0 & 0 & 0 & 0\\\\0 & 0 & 0 & 0\\end{matrix}\\right] & \\left[\\begin{matrix}0 & 0 & 0 & 0\\\\0 & 0 & 0 & 0\\\\0 & 0 & 0 & 0\\\\0 & 0 & 0 & 0\\end{matrix}\\right] & \\left[\\begin{matrix}0 & 0 & 0 & 0\\\\0 & 0 & 0 & 0\\\\0 & 0 & 0 & 0\\\\0 & 0 & 0 & 0\\end{matrix}\\right]\\\\\\left[\\begin{matrix}0 & 0 & 0 & 0\\\\0 & 0 & 0 & 0\\\\0 & 0 & 0 & 0\\\\0 & 0 & 0 & 0\\end{matrix}\\right] & \\left[\\begin{matrix}0 & 0 & 0 & 0\\\\0 & 0 & 0 & 0\\\\0 & 0 & 0 & 0\\\\0 & 0 & 0 & 0\\end{matrix}\\right] & \\left[\\begin{matrix}0 & 0 & 0 & 0\\\\0 & 0 & 0 & 0\\\\0 & 0 & 0 & 0\\\\0 & 0 & 0 & 0\\end{matrix}\\right] & \\left[\\begin{matrix}0 & 0 & 0 & 0\\\\0 & 0 & 0 & 0\\\\0 & 0 & 0 & 0\\\\0 & 0 & 0 & 0\\end{matrix}\\right]\\\\\\left[\\begin{matrix}0 & 0 & 0 & 0\\\\0 & 0 & 0 & 0\\\\0 & 0 & 0 & 0\\\\0 & 0 & 0 & 0\\end{matrix}\\right] & \\left[\\begin{matrix}0 & 0 & 0 & 0\\\\0 & 0 & 0 & 0\\\\0 & 0 & 0 & 0\\\\0 & 0 & 0 & 0\\end{matrix}\\right] & \\left[\\begin{matrix}0 & 0 & 0 & 0\\\\0 & 0 & 0 & 0\\\\0 & 0 & 0 & 0\\\\0 & 0 & 0 & 0\\end{matrix}\\right] & \\left[\\begin{matrix}0 & 0 & 0 & 0\\\\0 & 0 & 0 & 0\\\\0 & 0 & 0 & 0\\\\0 & 0 & 0 & 0\\end{matrix}\\right]\\end{matrix}\\right]$"
      ],
      "text/plain": [
       "[[[[0, 0, 0, 0], [0, 0, 0, 0], [0, 0, 0, 0], [0, 0, 0, 0]], [[0, (-2*(B(x) - 1)*Derivative(B(x), (x, 2)) + Derivative(B(x), x)**2)/(4*(B(x) - 1)**2), 0, 0], [((1 - B(x))*Derivative(B(x), x)**2 + 2*(B(x) - 1)**2*Derivative(B(x), (x, 2)))/(4*(B(x) - 1)**3), 0, 0, 0], [0, 0, 0, 0], [0, 0, 0, 0]], [[0, 0, 0, 0], [0, 0, 0, 0], [0, 0, 0, 0], [0, 0, 0, 0]], [[0, 0, 0, 0], [0, 0, 0, 0], [0, 0, 0, 0], [0, 0, 0, 0]]], [[[0, (2*(B(x) - 1)*Derivative(B(x), (x, 2)) - Derivative(B(x), x)**2)/(4*(B(x) - 1)), 0, 0], [(-2*(B(x) - 1)*Derivative(B(x), (x, 2)) + Derivative(B(x), x)**2)/(4*(B(x) - 1)), 0, 0, 0], [0, 0, 0, 0], [0, 0, 0, 0]], [[0, 0, 0, 0], [0, 0, 0, 0], [0, 0, 0, 0], [0, 0, 0, 0]], [[0, 0, 0, 0], [0, 0, 0, 0], [0, 0, 0, 0], [0, 0, 0, 0]], [[0, 0, 0, 0], [0, 0, 0, 0], [0, 0, 0, 0], [0, 0, 0, 0]]], [[[0, 0, 0, 0], [0, 0, 0, 0], [0, 0, 0, 0], [0, 0, 0, 0]], [[0, 0, 0, 0], [0, 0, 0, 0], [0, 0, 0, 0], [0, 0, 0, 0]], [[0, 0, 0, 0], [0, 0, 0, 0], [0, 0, 0, 0], [0, 0, 0, 0]], [[0, 0, 0, 0], [0, 0, 0, 0], [0, 0, 0, 0], [0, 0, 0, 0]]], [[[0, 0, 0, 0], [0, 0, 0, 0], [0, 0, 0, 0], [0, 0, 0, 0]], [[0, 0, 0, 0], [0, 0, 0, 0], [0, 0, 0, 0], [0, 0, 0, 0]], [[0, 0, 0, 0], [0, 0, 0, 0], [0, 0, 0, 0], [0, 0, 0, 0]], [[0, 0, 0, 0], [0, 0, 0, 0], [0, 0, 0, 0], [0, 0, 0, 0]]]]"
      ]
     },
     "execution_count": 10,
     "metadata": {},
     "output_type": "execute_result"
    }
   ],
   "source": [
    "#calculate Riemann Curvature Tensor\n",
    "riemann = RiemannCurvatureTensor.from_metric(metric_tensor)\n",
    "sp.simplify(riemann.tensor())"
   ]
  },
  {
   "cell_type": "code",
   "execution_count": 11,
   "metadata": {},
   "outputs": [
    {
     "data": {
      "text/latex": [
       "$\\displaystyle \\left[\\begin{matrix}\\frac{- 2 \\left(B{\\left(x \\right)} - 1\\right) \\frac{d^{2}}{d x^{2}} B{\\left(x \\right)} + \\left(\\frac{d}{d x} B{\\left(x \\right)}\\right)^{2}}{4 \\left(B{\\left(x \\right)} - 1\\right)} & 0 & 0 & 0\\\\0 & \\frac{- 2 \\left(B{\\left(x \\right)} - 1\\right) \\frac{d^{2}}{d x^{2}} B{\\left(x \\right)} + \\left(\\frac{d}{d x} B{\\left(x \\right)}\\right)^{2}}{4 \\left(B{\\left(x \\right)} - 1\\right)^{2}} & 0 & 0\\\\0 & 0 & 0 & 0\\\\0 & 0 & 0 & 0\\end{matrix}\\right]$"
      ],
      "text/plain": [
       "[[(-2*(B(x) - 1)*Derivative(B(x), (x, 2)) + Derivative(B(x), x)**2)/(4*(B(x) - 1)), 0, 0, 0], [0, (-2*(B(x) - 1)*Derivative(B(x), (x, 2)) + Derivative(B(x), x)**2)/(4*(B(x) - 1)**2), 0, 0], [0, 0, 0, 0], [0, 0, 0, 0]]"
      ]
     },
     "execution_count": 11,
     "metadata": {},
     "output_type": "execute_result"
    }
   ],
   "source": [
    "#calculate Ricci Tensor\n",
    "ricci_tensor = RicciTensor.from_riemann(riemann)\n",
    "sp.simplify(ricci_tensor.tensor())"
   ]
  },
  {
   "cell_type": "code",
   "execution_count": 12,
   "metadata": {},
   "outputs": [
    {
     "data": {
      "text/latex": [
       "$\\displaystyle \\frac{\\left(B{\\left(x \\right)} - 1\\right) \\frac{d^{2}}{d x^{2}} B{\\left(x \\right)} - \\frac{\\left(\\frac{d}{d x} B{\\left(x \\right)}\\right)^{2}}{2}}{\\left(B{\\left(x \\right)} - 1\\right)^{2}}$"
      ],
      "text/plain": [
       "((B(x) - 1)*Derivative(B(x), (x, 2)) - Derivative(B(x), x)**2/2)/(B(x) - 1)**2"
      ]
     },
     "execution_count": 12,
     "metadata": {},
     "output_type": "execute_result"
    }
   ],
   "source": [
    "#calculate Ricci Scalar\n",
    "ricci_scalar = RicciScalar.from_riemann(riemann)\n",
    "ricci_scalar.tensor()"
   ]
  }
 ],
 "metadata": {
  "kernelspec": {
   "display_name": ".venv",
   "language": "python",
   "name": "python3"
  },
  "language_info": {
   "codemirror_mode": {
    "name": "ipython",
    "version": 3
   },
   "file_extension": ".py",
   "mimetype": "text/x-python",
   "name": "python",
   "nbconvert_exporter": "python",
   "pygments_lexer": "ipython3",
   "version": "3.11.6"
  }
 },
 "nbformat": 4,
 "nbformat_minor": 2
}
