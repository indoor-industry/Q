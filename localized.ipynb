{
 "cells": [
  {
   "cell_type": "code",
   "execution_count": 1,
   "metadata": {},
   "outputs": [],
   "source": [
    "from sympy import *\n",
    "from IPython.display import display, Math"
   ]
  },
  {
   "cell_type": "code",
   "execution_count": 2,
   "metadata": {},
   "outputs": [],
   "source": [
    "# Define symbols\n",
    "x, k = symbols('x k')\n",
    "#Define mass, width of wavepacket and time\n",
    "m, a, t = symbols('m a t', positive=True)\n",
    "#Define free ground state energy\n",
    "E=k**2/(2*m)"
   ]
  },
  {
   "cell_type": "code",
   "execution_count": 3,
   "metadata": {},
   "outputs": [
    {
     "data": {
      "text/latex": [
       "$\\displaystyle \\frac{\\sqrt{2} e^{- \\frac{x^{2}}{4 a^{2}}}}{2 \\sqrt[4]{\\pi} \\sqrt{a}}$"
      ],
      "text/plain": [
       "sqrt(2)*exp(-x**2/(4*a**2))/(2*pi**(1/4)*sqrt(a))"
      ]
     },
     "metadata": {},
     "output_type": "display_data"
    }
   ],
   "source": [
    "# Define the ground state\n",
    "GS = exp(-(x**2/(4*a**2)))\n",
    "GS_norm = sqrt(integrate(abs(GS), (x, -oo, oo)))\n",
    "GS_normalized = GS/GS_norm\n",
    "\n",
    "display(simplify(GS_normalized, rational=True))"
   ]
  },
  {
   "cell_type": "code",
   "execution_count": 4,
   "metadata": {},
   "outputs": [
    {
     "data": {
      "text/latex": [
       "$\\displaystyle 2 \\sqrt{\\pi} a e^{- 4 \\pi^{2} a^{2} k^{2}}$"
      ],
      "text/plain": [
       "2*sqrt(pi)*a*exp(-4*pi**2*a**2*k**2)"
      ]
     },
     "metadata": {},
     "output_type": "display_data"
    }
   ],
   "source": [
    "# Using fourier_transform() method\n",
    "FT_GS = fourier_transform(GS, x, k)\n",
    "display(simplify(FT_GS, rational=True))"
   ]
  },
  {
   "cell_type": "code",
   "execution_count": 5,
   "metadata": {},
   "outputs": [
    {
     "data": {
      "text/latex": [
       "$\\displaystyle 2 \\sqrt{\\pi} a e^{- k^{2} \\cdot \\left(4 \\pi^{2} a^{2} + \\frac{i t}{2 m}\\right)}$"
      ],
      "text/plain": [
       "2*sqrt(pi)*a*exp(-k**2*(4*pi**2*a**2 + I*t/(2*m)))"
      ]
     },
     "metadata": {},
     "output_type": "display_data"
    }
   ],
   "source": [
    "\n",
    "# Define the evolving state in fourier space\n",
    "FT_ES = FT_GS*exp(-1j*E*t)\n",
    "display(simplify(FT_ES, rational=True))"
   ]
  },
  {
   "cell_type": "code",
   "execution_count": 6,
   "metadata": {},
   "outputs": [
    {
     "data": {
      "text/latex": [
       "$\\displaystyle \\frac{176776695296637 \\cdot \\sqrt[4]{2} \\pi^{\\frac{5}{4}} a m^{\\frac{3}{4}} e^{\\frac{i \\pi}{4}} e^{- \\frac{2 \\pi^{2} m x^{2}}{8 \\pi^{2} a^{2} m + i t}} \\sqrt{\\left|{\\sqrt{8 \\pi^{2} a^{2} m e^{\\frac{i \\pi}{2}} - t}}\\right|}}{62500000000000 \\sqrt[4]{64 \\pi^{4} a^{4} m^{2} + t^{2}} \\sqrt{8 \\pi^{2} a^{2} m e^{\\frac{i \\pi}{2}} - t}}$"
      ],
      "text/plain": [
       "176776695296637*2**(1/4)*pi**(5/4)*a*m**(3/4)*exp_polar(I*pi/4)*exp(-2*pi**2*m*x**2/(8*pi**2*a**2*m + I*t))*sqrt(Abs(sqrt(8*pi**2*a**2*m*exp_polar(I*pi/2) - t)))/(62500000000000*(64*pi**4*a**4*m**2 + t**2)**(1/4)*sqrt(8*pi**2*a**2*m*exp_polar(I*pi/2) - t))"
      ]
     },
     "metadata": {},
     "output_type": "display_data"
    }
   ],
   "source": [
    "# Using inverse_fourier_transform() method\n",
    "ES = inverse_fourier_transform(FT_ES, k, x)\n",
    "\n",
    "ES_norm = sqrt(integrate(abs(ES), (x, -oo, oo)))\n",
    "ES_normalized = ES/ES_norm\n",
    "\n",
    "display(simplify(ES_normalized, rational=True))"
   ]
  }
 ],
 "metadata": {
  "kernelspec": {
   "display_name": "Python 3",
   "language": "python",
   "name": "python3"
  },
  "language_info": {
   "codemirror_mode": {
    "name": "ipython",
    "version": 3
   },
   "file_extension": ".py",
   "mimetype": "text/x-python",
   "name": "python",
   "nbconvert_exporter": "python",
   "pygments_lexer": "ipython3",
   "version": "3.10.12"
  }
 },
 "nbformat": 4,
 "nbformat_minor": 2
}
