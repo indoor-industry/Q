{
 "cells": [
  {
   "cell_type": "code",
   "execution_count": 101,
   "metadata": {},
   "outputs": [],
   "source": [
    "from sympy import *\n",
    "from IPython.display import display, Math"
   ]
  },
  {
   "cell_type": "code",
   "execution_count": 102,
   "metadata": {},
   "outputs": [],
   "source": [
    "# Define symbols\n",
    "x, k = symbols('x k')\n",
    "#Define mass, width of wavepacket and time\n",
    "t = symbols('t', positive=True)\n",
    "#m, sigma, sigma_d, t_1, d = symbols('m sigma sigma_d t_1 d', positive=True)\n",
    "#phi = symbols('phi')\n",
    "\n",
    "phi=-1\n",
    "m=1\n",
    "sigma=1\n",
    "sigma_d=1\n",
    "t_1=3\n",
    "d=2\n",
    "\n",
    "#Define free ground state energy\n",
    "E=k**2/(2*m)"
   ]
  },
  {
   "cell_type": "code",
   "execution_count": 103,
   "metadata": {},
   "outputs": [
    {
     "data": {
      "text/latex": [
       "$\\displaystyle \\left(e^{- \\frac{\\left(x + 2\\right)^{2}}{4}} + e^{- \\frac{\\left(x - 2\\right)^{2}}{4}}\\right) e^{- 0.25 i x^{2}} e^{- \\frac{x^{2} \\cdot \\left(1.0 - 1.5 i\\right)}{4}}$"
      ],
      "text/plain": [
       "(exp(-(x + 2)**2/4) + exp(-(x - 2)**2/4))*exp(-0.25*I*x**2)*exp(-x**2*(1.0 - 1.5*I)/4)"
      ]
     },
     "metadata": {},
     "output_type": "display_data"
    }
   ],
   "source": [
    "# Define the evolved HO ground state\n",
    "HOGS = exp(-(x**2/(4*sigma**2))*(1-1j*t_1/(2*m*sigma**2)))\n",
    "# Define induced phase\n",
    "IP = exp(1j*phi*(x**2/(4*sigma)))\n",
    "# Define double gaussian\n",
    "DG = exp(-((x-d)**2/(4*sigma_d**2)))+exp(-((x+d)**2/(4*sigma_d**2)))\n",
    "# Define delocalized state\n",
    "DS = HOGS*IP*DG\n",
    "\n",
    "#DS_norm = sqrt(integrate(abs(GS), (x, -oo, oo)))\n",
    "#DS_normalized = GS/GS_norm\n",
    "\n",
    "display(DS)"
   ]
  },
  {
   "cell_type": "code",
   "execution_count": 104,
   "metadata": {},
   "outputs": [
    {
     "data": {
      "text/latex": [
       "$\\displaystyle \\sqrt{\\pi} \\left(45.4749591257198 e^{\\pi k \\left(0.849905040175311 \\pi k + 3.76470588235294 i\\right)} + 0.832902929826631 e^{0.849905040175311 \\pi^{2} k^{2} + 0.941176470588235 \\pi k + 4}\\right) e^{- 2.73225798135178 \\pi^{2} k^{2} - 0.470588235294118 i \\pi^{2} k^{2} - 0.470588235294118 \\pi k - 1.88235294117647 i \\pi k - 4 + 0.117647058823529 i} \\sqrt{\\operatorname{polar\\_lift}{\\left(\\frac{1}{1.0 - 0.25 e^{\\frac{i \\pi}{2}}} \\right)}}$"
      ],
      "text/plain": [
       "sqrt(pi)*(45.4749591257198*exp(pi*k*(0.849905040175311*pi*k + 3.76470588235294*I)) + 0.832902929826631*exp(0.849905040175311*pi**2*k**2 + 0.941176470588235*pi*k + 4))*exp(-2.73225798135178*pi**2*k**2 - 0.470588235294118*I*pi**2*k**2 - 0.470588235294118*pi*k - 1.88235294117647*I*pi*k - 4 + 0.117647058823529*I)*sqrt(polar_lift(1/(1.0 - 0.25*exp_polar(I*pi/2))))"
      ]
     },
     "metadata": {},
     "output_type": "display_data"
    }
   ],
   "source": [
    "# Using fourier_transform() method\n",
    "FT_DS = fourier_transform(DS, x, k)\n",
    "display(FT_DS)"
   ]
  },
  {
   "cell_type": "code",
   "execution_count": 105,
   "metadata": {},
   "outputs": [
    {
     "data": {
      "text/latex": [
       "$\\displaystyle \\frac{\\sqrt{\\pi} \\left(45474959125719800 e^{\\frac{64 i \\pi k}{17}} + 832902929826631 e^{\\frac{16 \\pi k}{17} + 4}\\right) e^{- \\frac{i k^{2} t}{2} - \\frac{1882352941176469 \\pi^{2} k^{2}}{1000000000000000} - \\frac{8 i \\pi^{2} k^{2}}{17} - \\frac{8 \\pi k}{17} - \\frac{32 i \\pi k}{17} - 4 + \\frac{2 i}{17}} \\sqrt{\\operatorname{polar\\_lift}{\\left(\\frac{1}{4 - e^{\\frac{i \\pi}{2}}} \\right)}}}{500000000000000}$"
      ],
      "text/plain": [
       "sqrt(pi)*(45474959125719800*exp(64*I*pi*k/17) + 832902929826631*exp(16*pi*k/17 + 4))*exp(-I*k**2*t/2 - 1882352941176469*pi**2*k**2/1000000000000000 - 8*I*pi**2*k**2/17 - 8*pi*k/17 - 32*I*pi*k/17 - 4 + 2*I/17)*sqrt(polar_lift(1/(4 - exp_polar(I*pi/2))))/500000000000000"
      ]
     },
     "metadata": {},
     "output_type": "display_data"
    }
   ],
   "source": [
    "\n",
    "# Define the evolving state in fourier space\n",
    "FT_EDS = FT_DS*exp(-1j*E*t)\n",
    "display(simplify(FT_EDS, rational=True))"
   ]
  },
  {
   "cell_type": "code",
   "execution_count": 106,
   "metadata": {},
   "outputs": [
    {
     "data": {
      "text/latex": [
       "$\\displaystyle \\sqrt{\\pi} \\left(0.832902929826631 \\mathcal{F}^{-1}_{k}\\left[e^{- 0.5 i k^{2} t - 1.88235294117647 \\pi^{2} k^{2} - 0.470588235294118 i \\pi^{2} k^{2} + 0.470588235294118 \\pi k - 1.88235294117647 i \\pi k + 0.117647058823529 i}\\right]\\left(x\\right) + 45.4749591257198 \\mathcal{F}^{-1}_{k}\\left[e^{- 0.5 i k^{2} t - 1.88235294117647 \\pi^{2} k^{2} - 0.470588235294118 i \\pi^{2} k^{2} - 0.470588235294118 \\pi k + 1.88235294117647 i \\pi k - 4 + 0.117647058823529 i}\\right]\\left(x\\right)\\right) \\sqrt{\\operatorname{polar\\_lift}{\\left(\\frac{1}{1.0 - 0.25 e^{\\frac{i \\pi}{2}}} \\right)}}$"
      ],
      "text/plain": [
       "sqrt(pi)*(0.832902929826631*InverseFourierTransform(exp(-0.5*I*k**2*t - 1.88235294117647*pi**2*k**2 - 0.470588235294118*I*pi**2*k**2 + 0.470588235294118*pi*k - 1.88235294117647*I*pi*k + 0.117647058823529*I), k, x) + 45.4749591257198*InverseFourierTransform(exp(-0.5*I*k**2*t - 1.88235294117647*pi**2*k**2 - 0.470588235294118*I*pi**2*k**2 - 0.470588235294118*pi*k + 1.88235294117647*I*pi*k - 4 + 0.117647058823529*I), k, x))*sqrt(polar_lift(1/(1.0 - 0.25*exp_polar(I*pi/2))))"
      ]
     },
     "metadata": {},
     "output_type": "display_data"
    }
   ],
   "source": [
    "# Using inverse_fourier_transform() method\n",
    "EDS = inverse_fourier_transform(FT_EDS, k, x, noconds=True)\n",
    "display(EDS)"
   ]
  }
 ],
 "metadata": {
  "kernelspec": {
   "display_name": "Python 3",
   "language": "python",
   "name": "python3"
  },
  "language_info": {
   "codemirror_mode": {
    "name": "ipython",
    "version": 3
   },
   "file_extension": ".py",
   "mimetype": "text/x-python",
   "name": "python",
   "nbconvert_exporter": "python",
   "pygments_lexer": "ipython3",
   "version": "3.10.12"
  }
 },
 "nbformat": 4,
 "nbformat_minor": 2
}
